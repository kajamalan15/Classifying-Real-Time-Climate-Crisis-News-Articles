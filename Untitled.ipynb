{
 "cells": [
  {
   "cell_type": "code",
   "execution_count": 10,
   "id": "0b735c25-16f8-48f3-a101-6222e594a3e8",
   "metadata": {},
   "outputs": [
    {
     "name": "stdout",
     "output_type": "stream",
     "text": [
      "Defaulting to user installation because normal site-packages is not writeable\n",
      "Collecting feedparser\n",
      "  Using cached feedparser-6.0.11-py3-none-any.whl.metadata (2.4 kB)\n",
      "Collecting sgmllib3k (from feedparser)\n",
      "  Using cached sgmllib3k-1.0.0.tar.gz (5.8 kB)\n",
      "  Preparing metadata (setup.py): started\n",
      "  Preparing metadata (setup.py): finished with status 'error'\n",
      "Note: you may need to restart the kernel to use updated packages.\n"
     ]
    },
    {
     "name": "stderr",
     "output_type": "stream",
     "text": [
      "DEPRECATION: Loading egg at c:\\programdata\\anaconda3\\lib\\site-packages\\vboxapi-1.0-py3.11.egg is deprecated. pip 24.3 will enforce this behaviour change. A possible replacement is to use pip for package installation.. Discussion can be found at https://github.com/pypa/pip/issues/12330\n",
      "  ERROR: Error [WinError 225] Operation did not complete successfully because the file contains a virus or potentially unwanted software while executing command python setup.py egg_info\n",
      "ERROR: Could not install packages due to an OSError: [WinError 225] Operation did not complete successfully because the file contains a virus or potentially unwanted software\n",
      "\n"
     ]
    }
   ],
   "source": [
    "pip install feedparser\n"
   ]
  },
  {
   "cell_type": "code",
   "execution_count": 11,
   "id": "f21a3b46-2652-4eb7-89d0-832a0201b6e9",
   "metadata": {},
   "outputs": [
    {
     "ename": "ModuleNotFoundError",
     "evalue": "No module named 'feedparser'",
     "output_type": "error",
     "traceback": [
      "\u001b[1;31m---------------------------------------------------------------------------\u001b[0m",
      "\u001b[1;31mModuleNotFoundError\u001b[0m                       Traceback (most recent call last)",
      "Cell \u001b[1;32mIn[11], line 2\u001b[0m\n\u001b[0;32m      1\u001b[0m \u001b[38;5;28;01mimport\u001b[39;00m \u001b[38;5;21;01mrequests\u001b[39;00m\n\u001b[1;32m----> 2\u001b[0m \u001b[38;5;28;01mimport\u001b[39;00m \u001b[38;5;21;01mfeedparser\u001b[39;00m\n\u001b[0;32m      3\u001b[0m \u001b[38;5;28;01mimport\u001b[39;00m \u001b[38;5;21;01mpandas\u001b[39;00m \u001b[38;5;28;01mas\u001b[39;00m \u001b[38;5;21;01mpd\u001b[39;00m\n\u001b[0;32m      4\u001b[0m \u001b[38;5;28;01mfrom\u001b[39;00m \u001b[38;5;21;01mdatetime\u001b[39;00m \u001b[38;5;28;01mimport\u001b[39;00m datetime\n",
      "\u001b[1;31mModuleNotFoundError\u001b[0m: No module named 'feedparser'"
     ]
    }
   ],
   "source": [
    "import requests\n",
    "import feedparser\n",
    "import pandas as pd\n",
    "from datetime import datetime\n",
    "import time\n",
    "\n",
    "# === 1️⃣ NewsAPI.org Collection ===\n",
    "NEWSAPI_KEY = \"YOUR_NEWSAPI_KEY\"  # <-- Replace with your actual key\n",
    "newsapi_url = \"https://newsapi.org/v2/everything\"\n",
    "\n",
    "newsapi_params = {\n",
    "    'q': 'climate OR climate change OR global warming',\n",
    "    'language': 'en',\n",
    "    'sortBy': 'publishedAt',\n",
    "    'pageSize': 100,\n",
    "    'page': 1,\n",
    "    'apiKey': NEWSAPI_KEY\n",
    "}\n",
    "\n",
    "newsapi_articles = []\n",
    "\n",
    "response = requests.get(newsapi_url, params=newsapi_params)\n",
    "if response.status_code == 200:\n",
    "    results = response.json()\n",
    "    for article in results['articles']:\n",
    "        newsapi_articles.append({\n",
    "            'title': article['title'],\n",
    "            'description': article['description'],\n",
    "            'source': article['source']['name'],\n",
    "            'url': article['url'],\n",
    "            'publishedAt': article['publishedAt'],\n",
    "            'fetched_from': 'NewsAPI',\n",
    "            'fetched_on': datetime.now()\n",
    "        })\n",
    "    print(f\"✅ NewsAPI: {len(newsapi_articles)} articles fetched.\")\n",
    "else:\n",
    "    print(\"❌ NewsAPI error:\", response.json())\n",
    "\n",
    "# === 2️⃣ RSS Feed Collection (Web Sources) ===\n",
    "rss_sources = {\n",
    "    'BBC': 'http://feeds.bbci.co.uk/news/science_and_environment/rss.xml',\n",
    "    'CNN': 'http://rss.cnn.com/rss/edition_earth.rss',\n",
    "    'Guardian': 'https://www.theguardian.com/environment/rss',\n",
    "    'Reuters': 'https://www.reuters.com/rssFeed/environmentNews'\n",
    "}\n",
    "\n",
    "rss_articles = []\n",
    "\n",
    "for source, url in rss_sources.items():\n",
    "    feed = feedparser.parse(url)\n",
    "    print(f\"🌍 Fetching from {source}...\")\n",
    "    for entry in feed.entries:\n",
    "        rss_articles.append({\n",
    "            'title': entry.title,\n",
    "            'description': entry.summary if 'summary' in entry else '',\n",
    "            'source': source,\n",
    "            'url': entry.link,\n",
    "            'publishedAt': entry.get('published', ''),\n",
    "            'fetched_from': 'RSS',\n",
    "            'fetched_on': datetime.now()\n",
    "        })\n",
    "\n",
    "print(f\"✅ RSS Feeds: {len(rss_articles)} articles fetched.\")\n",
    "\n",
    "# === 3️⃣ Combine and Save ===\n",
    "combined = newsapi_articles + rss_articles\n",
    "df = pd.DataFrame(combined)\n",
    "df.to_csv(\"raw_climate_news.csv\", index=False)\n",
    "print(f\"📦 All collected articles saved to 'raw_climate_news.csv' ({len(df)} rows)\")\n"
   ]
  },
  {
   "cell_type": "code",
   "execution_count": null,
   "id": "90b68a56-b8ff-4ab0-8572-34bcc9696f68",
   "metadata": {},
   "outputs": [],
   "source": [
    "\n"
   ]
  },
  {
   "cell_type": "code",
   "execution_count": null,
   "id": "0f650ec9-52f0-4ea4-bad2-16c1094218b3",
   "metadata": {},
   "outputs": [],
   "source": []
  },
  {
   "cell_type": "code",
   "execution_count": null,
   "id": "4a23b86d-ed7b-4ffa-b4a7-5522c95aacb2",
   "metadata": {},
   "outputs": [],
   "source": []
  },
  {
   "cell_type": "code",
   "execution_count": null,
   "id": "db61bc56-6bbe-4e23-b94f-b82c7d577e57",
   "metadata": {},
   "outputs": [],
   "source": []
  },
  {
   "cell_type": "code",
   "execution_count": null,
   "id": "744de511-9cb1-4166-8b74-2798523f9e95",
   "metadata": {},
   "outputs": [],
   "source": []
  },
  {
   "cell_type": "code",
   "execution_count": null,
   "id": "fbef6d9e-8887-4b82-930c-bb5c1da18baa",
   "metadata": {},
   "outputs": [],
   "source": []
  }
 ],
 "metadata": {
  "kernelspec": {
   "display_name": "Python 3 (ipykernel)",
   "language": "python",
   "name": "python3"
  },
  "language_info": {
   "codemirror_mode": {
    "name": "ipython",
    "version": 3
   },
   "file_extension": ".py",
   "mimetype": "text/x-python",
   "name": "python",
   "nbconvert_exporter": "python",
   "pygments_lexer": "ipython3",
   "version": "3.11.7"
  }
 },
 "nbformat": 4,
 "nbformat_minor": 5
}
